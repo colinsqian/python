{
 "cells": [
  {
   "cell_type": "code",
   "execution_count": 2,
   "metadata": {},
   "outputs": [
    {
     "name": "stdout",
     "output_type": "stream",
     "text": [
      "hello\n"
     ]
    }
   ],
   "source": [
    "print(\"hello\")"
   ]
  },
  {
   "cell_type": "code",
   "execution_count": 11,
   "metadata": {},
   "outputs": [
    {
     "data": {
      "text/plain": [
       "5"
      ]
     },
     "execution_count": 11,
     "metadata": {},
     "output_type": "execute_result"
    }
   ],
   "source": [
    "'''\n",
    "#定义可变参数和定义一个list或tuple参数相比，仅仅在参数前面加了一个*号。在函数内部，参数numbers接收到的是一个tuple，因此，函数代码完全不变。\n",
    "但是，调用该函数时，可以传入任意个参数，包括0个参数：\n",
    "'''\n",
    "def calc(*numbers): \n",
    "    sum = 0\n",
    "    for n in numbers:\n",
    "        sum = sum + n * n\n",
    "    return sum\n",
    "calc(1,2)"
   ]
  },
  {
   "cell_type": "code",
   "execution_count": 13,
   "metadata": {},
   "outputs": [
    {
     "data": {
      "text/plain": [
       "14"
      ]
     },
     "execution_count": 13,
     "metadata": {},
     "output_type": "execute_result"
    }
   ],
   "source": [
    "nums = [1, 2, 3] #Python允许你在list或tuple前面加一个*号，把list或tuple的元素变成可变参数传进去\n",
    "calc(*nums)"
   ]
  },
  {
   "cell_type": "code",
   "execution_count": 28,
   "metadata": {},
   "outputs": [
    {
     "name": "stdout",
     "output_type": "stream",
     "text": [
      "Bob 35 {'city': 'Beijing'}\n"
     ]
    }
   ],
   "source": [
    "'''\n",
    "而关键字参数允许你传入0个或任意个含参数名的参数，这些关键字参数在函数内部自动组装为一个dict\n",
    "'''\n",
    "def person(name, age, **kw):\n",
    "    #print('name:', name, 'age:', age, 'other:', kw)\n",
    "    print(name, age, kw)\n",
    "person('Bob', 35, city='Beijing')"
   ]
  },
  {
   "cell_type": "code",
   "execution_count": 18,
   "metadata": {},
   "outputs": [
    {
     "name": "stdout",
     "output_type": "stream",
     "text": [
      "name: Jack age: 24 other: {'city': 'Beijing', 'job': 'Engineer'}\n"
     ]
    }
   ],
   "source": [
    "extra = {'city': 'Beijing', 'job': 'Engineer'}\n",
    "person('Jack', 24, **extra)"
   ]
  },
  {
   "cell_type": "code",
   "execution_count": 21,
   "metadata": {},
   "outputs": [
    {
     "name": "stdout",
     "output_type": "stream",
     "text": [
      "jacek 24 bj engineer\n"
     ]
    }
   ],
   "source": [
    "def person(name, age, *, city, job): #如果要限制关键字参数的名字，就可以用命名关键字参数，例如，只接收city和job作为关键字参数。\n",
    "    print(name, age, city, job)\n",
    "person('jacek', 24, city='bj', job='engineer')"
   ]
  },
  {
   "cell_type": "code",
   "execution_count": 25,
   "metadata": {},
   "outputs": [
    {
     "name": "stdout",
     "output_type": "stream",
     "text": [
      "Jack 24 () Beijing Engineer\n"
     ]
    }
   ],
   "source": [
    "def person(name, age, *args, city, job): #果函数定义中已经有了一个可变参数，后面跟着的命名关键字参数就不再需要一个特殊分隔符*了：\n",
    "    print(name, age, args, city, job)\n",
    "person('Jack', 24,  city='Beijing', job='Engineer')\n",
    "# person('Jack', 24,  'Beijing', 'Engineer') 命名关键字参数必须传入参数名，这和位置参数不同。如果没有传入参数名，调用将报错："
   ]
  },
  {
   "cell_type": "code",
   "execution_count": 26,
   "metadata": {},
   "outputs": [
    {
     "data": {
      "text/plain": [
       "\"\\n\\n小结\\nPython的函数具有非常灵活的参数形态，既可以实现简单的调用，又可以传入非常复杂的参数。\\n\\n默认参数一定要用不可变对象，如果是可变对象，程序运行时会有逻辑错误！\\n\\n要注意定义可变参数和关键字参数的语法：\\n\\n*args是可变参数，args接收的是一个tuple；\\n\\n**kw是关键字参数，kw接收的是一个dict。\\n\\n以及调用函数时如何传入可变参数和关键字参数的语法：\\n\\n可变参数既可以直接传入：func(1, 2, 3)，又可以先组装list或tuple，再通过*args传入：func(*(1, 2, 3))；\\n\\n关键字参数既可以直接传入：func(a=1, b=2)，又可以先组装dict，再通过**kw传入：func(**{'a': 1, 'b': 2})。\\n\\n使用*args和**kw是Python的习惯写法，当然也可以用其他参数名，但最好使用习惯用法。\\n\\n命名的关键字参数是为了限制调用者可以传入的参数名，同时可以提供默认值。\\n\\n定义命名的关键字参数在没有可变参数的情况下不要忘了写分隔符*，否则定义的将是位置参数。\\n\""
      ]
     },
     "execution_count": 26,
     "metadata": {},
     "output_type": "execute_result"
    }
   ],
   "source": [
    "'''\n",
    "\n",
    "小结\n",
    "Python的函数具有非常灵活的参数形态，既可以实现简单的调用，又可以传入非常复杂的参数。\n",
    "\n",
    "默认参数一定要用不可变对象，如果是可变对象，程序运行时会有逻辑错误！\n",
    "\n",
    "要注意定义可变参数和关键字参数的语法：\n",
    "\n",
    "*args是可变参数，args接收的是一个tuple；\n",
    "\n",
    "**kw是关键字参数，kw接收的是一个dict。\n",
    "\n",
    "以及调用函数时如何传入可变参数和关键字参数的语法：\n",
    "\n",
    "可变参数既可以直接传入：func(1, 2, 3)，又可以先组装list或tuple，再通过*args传入：func(*(1, 2, 3))；\n",
    "\n",
    "关键字参数既可以直接传入：func(a=1, b=2)，又可以先组装dict，再通过**kw传入：func(**{'a': 1, 'b': 2})。\n",
    "\n",
    "使用*args和**kw是Python的习惯写法，当然也可以用其他参数名，但最好使用习惯用法。\n",
    "\n",
    "命名的关键字参数是为了限制调用者可以传入的参数名，同时可以提供默认值。\n",
    "\n",
    "定义命名的关键字参数在没有可变参数的情况下不要忘了写分隔符*，否则定义的将是位置参数。\n",
    "\n",
    "'''"
   ]
  },
  {
   "cell_type": "code",
   "execution_count": null,
   "metadata": {},
   "outputs": [],
   "source": []
  }
 ],
 "metadata": {
  "kernelspec": {
   "display_name": "Python 3",
   "language": "python",
   "name": "python3"
  },
  "language_info": {
   "codemirror_mode": {
    "name": "ipython",
    "version": 3
   },
   "file_extension": ".py",
   "mimetype": "text/x-python",
   "name": "python",
   "nbconvert_exporter": "python",
   "pygments_lexer": "ipython3",
   "version": "3.6.5"
  }
 },
 "nbformat": 4,
 "nbformat_minor": 2
}
